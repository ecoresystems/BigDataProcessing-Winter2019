{
 "cells": [
  {
   "cell_type": "markdown",
   "metadata": {},
   "source": [
    "# <font color=\"#000000\">Sample Notebook for lecture 1</font>\n",
    "# <font color=\"#000000\">1回目のサンプルノートブック</font>"
   ]
  },
  {
   "cell_type": "markdown",
   "metadata": {},
   "source": [
    "### 1 - Packages ###\n",
    "#### Let's first import all the packages that you will need during this lecture.####\n",
    "- [pandas](https://pandas.pydata.org/) is an open source, BSD-licensed library providing high-performance, easy-to-use data structures and data analysis tools for the Python programming language.\n",
    "<img src=\"img\/pandas_logo.png\" style=\"width:400px\">\n",
    "- [psycopg2](https://pypi.org/project/psycopg2/) is the most popular PostgreSQL database adapter for the Python programming language.\n",
    "<img src=\"img\/psycopg.PNG\" style=\"width:250px\"><br>"
   ]
  },
  {
   "cell_type": "code",
   "execution_count": null,
   "metadata": {},
   "outputs": [],
   "source": [
    "import pandas as pd\n",
    "import psycopg2 as ps"
   ]
  },
  {
   "cell_type": "markdown",
   "metadata": {},
   "source": [
    "### 2 - Connections ###\n",
    "#### Then, let's establish the connection to our database.####\n",
    "- <font color=\"#2874A6\">host</font> stands for the server which the database management system(DBMS) is running on. In this case, it's on the same server as the jupyter is running on. Then the value would be <font color=\"#B02828\">'localhost'</font>.\n",
    "- <font color=\"#2874A6\">database</font> stands for the database inside the DBMS, one DBMS can handle multiple databases. We've already created the database for this course for you. The value would be <font color=\"#B02828\">'bigdataprocessing_winter_2019'</font> in case you've accidentally delete it. \n",
    "- <font color=\"#2874A6\">user</font> and <font color=\"2874A6\">password</font> are corresponding to your credentials to the DBMS, we've already set up a public account with username and password <font color=\"#B02828\">'www_data'</font> for you."
   ]
  },
  {
   "cell_type": "code",
   "execution_count": null,
   "metadata": {},
   "outputs": [],
   "source": [
    "conn = ps.connect(host='localhost',database='bigdataprocessing_winter_2019',user='www_data',password='www_data')"
   ]
  },
  {
   "cell_type": "markdown",
   "metadata": {},
   "source": [
    "### 3 - Data acquisition ###\n",
    "#### It's time to pull some data from our database.####\n",
    "- [pandas.read_sql](https://pandas.pydata.org/pandas-docs/stable/reference/api/pandas.read_sql.html) is a function to Read SQL query or database table into a DataFrame."
   ]
  },
  {
   "cell_type": "code",
   "execution_count": null,
   "metadata": {},
   "outputs": [],
   "source": [
    "wifi_df = pd.read_sql(sql=None,con=None)"
   ]
  },
  {
   "cell_type": "markdown",
   "metadata": {},
   "source": [
    "####  You can now show the data you've acquired from database####"
   ]
  },
  {
   "cell_type": "code",
   "execution_count": null,
   "metadata": {
    "scrolled": true
   },
   "outputs": [],
   "source": [
    "wifi_df"
   ]
  }
 ],
 "metadata": {
  "kernelspec": {
   "display_name": "Python 3",
   "language": "python",
   "name": "python3"
  },
  "language_info": {
   "codemirror_mode": {
    "name": "ipython",
    "version": 3
   },
   "file_extension": ".py",
   "mimetype": "text/x-python",
   "name": "python",
   "nbconvert_exporter": "python",
   "pygments_lexer": "ipython3",
   "version": "3.6.7"
  }
 },
 "nbformat": 4,
 "nbformat_minor": 2
}
